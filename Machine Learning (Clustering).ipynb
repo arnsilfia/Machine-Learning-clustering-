{
 "cells": [
  {
   "cell_type": "markdown",
   "metadata": {},
   "source": [
    "# 1. Importing the libraries"
   ]
  },
  {
   "cell_type": "code",
   "execution_count": 65,
   "metadata": {},
   "outputs": [],
   "source": [
    "%matplotlib inline \n",
    "import matplotlib.pyplot as plt \n",
    "import numpy as np \n",
    "import pandas as pd \n",
    "from sklearn.cluster import KMeans"
   ]
  },
  {
   "cell_type": "markdown",
   "metadata": {},
   "source": [
    "# 2. Getting the Data\n"
   ]
  },
  {
   "cell_type": "code",
   "execution_count": 66,
   "metadata": {},
   "outputs": [
    {
     "data": {
      "text/plain": [
       "Index(['pintu_masuk', 'ganjil', 'genap'], dtype='object')"
      ]
     },
     "execution_count": 66,
     "metadata": {},
     "output_type": "execute_result"
    }
   ],
   "source": [
    "dataset = pd.read_csv('kun_wisman1.csv')\n",
    "dataset.keys()"
   ]
  },
  {
   "cell_type": "code",
   "execution_count": 67,
   "metadata": {},
   "outputs": [
    {
     "data": {
      "text/html": [
       "<div>\n",
       "<style scoped>\n",
       "    .dataframe tbody tr th:only-of-type {\n",
       "        vertical-align: middle;\n",
       "    }\n",
       "\n",
       "    .dataframe tbody tr th {\n",
       "        vertical-align: top;\n",
       "    }\n",
       "\n",
       "    .dataframe thead th {\n",
       "        text-align: right;\n",
       "    }\n",
       "</style>\n",
       "<table border=\"1\" class=\"dataframe\">\n",
       "  <thead>\n",
       "    <tr style=\"text-align: right;\">\n",
       "      <th></th>\n",
       "      <th>pintu_masuk</th>\n",
       "      <th>ganjil</th>\n",
       "      <th>genap</th>\n",
       "    </tr>\n",
       "  </thead>\n",
       "  <tbody>\n",
       "    <tr>\n",
       "      <th>0</th>\n",
       "      <td>Soekarno-Hatta</td>\n",
       "      <td>1136150</td>\n",
       "      <td>1110287</td>\n",
       "    </tr>\n",
       "    <tr>\n",
       "      <th>1</th>\n",
       "      <td>Ngurah Rai</td>\n",
       "      <td>1710014</td>\n",
       "      <td>2021721</td>\n",
       "    </tr>\n",
       "    <tr>\n",
       "      <th>2</th>\n",
       "      <td>Kualanamu Int'.</td>\n",
       "      <td>110415</td>\n",
       "      <td>124309</td>\n",
       "    </tr>\n",
       "    <tr>\n",
       "      <th>3</th>\n",
       "      <td>Batam</td>\n",
       "      <td>705988</td>\n",
       "      <td>748092</td>\n",
       "    </tr>\n",
       "    <tr>\n",
       "      <th>4</th>\n",
       "      <td>Sam Ratulangi</td>\n",
       "      <td>8044</td>\n",
       "      <td>9235</td>\n",
       "    </tr>\n",
       "  </tbody>\n",
       "</table>\n",
       "</div>"
      ],
      "text/plain": [
       "       pintu_masuk   ganjil    genap\n",
       "0   Soekarno-Hatta  1136150  1110287\n",
       "1       Ngurah Rai  1710014  2021721\n",
       "2  Kualanamu Int'.   110415   124309\n",
       "3            Batam   705988   748092\n",
       "4    Sam Ratulangi     8044     9235"
      ]
     },
     "execution_count": 67,
     "metadata": {},
     "output_type": "execute_result"
    }
   ],
   "source": [
    "dataset.head()"
   ]
  },
  {
   "cell_type": "markdown",
   "metadata": {},
   "source": [
    "# 3.Data Cleansing"
   ]
  },
  {
   "cell_type": "code",
   "execution_count": 68,
   "metadata": {},
   "outputs": [],
   "source": [
    "dataset.drop('pintu_masuk',axis=1,inplace=True)"
   ]
  },
  {
   "cell_type": "code",
   "execution_count": 69,
   "metadata": {},
   "outputs": [
    {
     "data": {
      "text/plain": [
       "(20, 2)"
      ]
     },
     "execution_count": 69,
     "metadata": {},
     "output_type": "execute_result"
    }
   ],
   "source": [
    "dataset.shape"
   ]
  },
  {
   "cell_type": "code",
   "execution_count": 70,
   "metadata": {},
   "outputs": [],
   "source": [
    "#konversi ke array\n",
    "X = np.asarray(dataset)"
   ]
  },
  {
   "cell_type": "code",
   "execution_count": 71,
   "metadata": {},
   "outputs": [
    {
     "data": {
      "text/html": [
       "<div>\n",
       "<style scoped>\n",
       "    .dataframe tbody tr th:only-of-type {\n",
       "        vertical-align: middle;\n",
       "    }\n",
       "\n",
       "    .dataframe tbody tr th {\n",
       "        vertical-align: top;\n",
       "    }\n",
       "\n",
       "    .dataframe thead th {\n",
       "        text-align: right;\n",
       "    }\n",
       "</style>\n",
       "<table border=\"1\" class=\"dataframe\">\n",
       "  <thead>\n",
       "    <tr style=\"text-align: right;\">\n",
       "      <th></th>\n",
       "      <th>ganjil</th>\n",
       "      <th>genap</th>\n",
       "    </tr>\n",
       "  </thead>\n",
       "  <tbody>\n",
       "    <tr>\n",
       "      <th>0</th>\n",
       "      <td>1136150</td>\n",
       "      <td>1110287</td>\n",
       "    </tr>\n",
       "    <tr>\n",
       "      <th>1</th>\n",
       "      <td>1710014</td>\n",
       "      <td>2021721</td>\n",
       "    </tr>\n",
       "    <tr>\n",
       "      <th>2</th>\n",
       "      <td>110415</td>\n",
       "      <td>124309</td>\n",
       "    </tr>\n",
       "    <tr>\n",
       "      <th>3</th>\n",
       "      <td>705988</td>\n",
       "      <td>748092</td>\n",
       "    </tr>\n",
       "    <tr>\n",
       "      <th>4</th>\n",
       "      <td>8044</td>\n",
       "      <td>9235</td>\n",
       "    </tr>\n",
       "  </tbody>\n",
       "</table>\n",
       "</div>"
      ],
      "text/plain": [
       "    ganjil    genap\n",
       "0  1136150  1110287\n",
       "1  1710014  2021721\n",
       "2   110415   124309\n",
       "3   705988   748092\n",
       "4     8044     9235"
      ]
     },
     "execution_count": 71,
     "metadata": {},
     "output_type": "execute_result"
    }
   ],
   "source": [
    "# menentukan variabel yang akan diclusterkan \n",
    "dataset_x = dataset.iloc[:, :2]\n",
    "dataset_x.head()"
   ]
  },
  {
   "cell_type": "code",
   "execution_count": 73,
   "metadata": {},
   "outputs": [
    {
     "data": {
      "image/png": "[encoded data removed]",
      "text/plain": [
       "<Figure size 432x288 with 1 Axes>"
      ]
     },
     "metadata": {
      "needs_background": "light"
     },
     "output_type": "display_data"
    }
   ],
   "source": [
    "# visualisasi persebaran data\n",
    "plt.scatter(dataset.ganjil, dataset.genap,s =10, c = \"c\", marker = \"o\", alpha = 1)\n",
    "plt.show()"
   ]
  },
  {
   "cell_type": "code",
   "execution_count": 74,
   "metadata": {},
   "outputs": [
    {
     "name": "stdout",
     "output_type": "stream",
     "text": [
      "[[1136150 1110287]\n",
      " [1710014 2021721]\n",
      " [ 110415  124309]\n",
      " [ 705988  748092]\n",
      " [   8044    9235]\n",
      " [ 110251  106942]\n",
      " [   9761   12703]\n",
      " [   6454    6457]\n",
      " [  24981   25215]\n",
      " [  34798   30143]\n",
      " [  49466   48206]\n",
      " [  33937   35944]\n",
      " [   7578    8135]\n",
      " [   6901    6255]\n",
      " [  13302   14080]\n",
      " [  46530   42626]\n",
      " [  97257   83135]\n",
      " [ 158186  162675]\n",
      " [  52088   48694]\n",
      " [ 229421  239005]]\n"
     ]
    }
   ],
   "source": [
    "#Mengubah Variabel Data Frame Menjadi Array \n",
    "x_array =  np.array(dataset_x)\n",
    "print(x_array)"
   ]
  },
  {
   "cell_type": "markdown",
   "metadata": {},
   "source": [
    "# 4. KMeans"
   ]
  },
  {
   "cell_type": "code",
   "execution_count": 75,
   "metadata": {},
   "outputs": [
    {
     "data": {
      "text/plain": [
       "array([[6.63138369e-01, 5.47780017e-01],\n",
       "       [1.00000000e+00, 1.00000000e+00],\n",
       "       [6.10257343e-02, 5.85740469e-02],\n",
       "       [4.10630679e-01, 3.68072198e-01],\n",
       "       [9.33339595e-04, 1.47856625e-03],\n",
       "       [6.09294654e-02, 4.99571811e-02],\n",
       "       [1.94122896e-03, 3.19926012e-03],\n",
       "       [0.00000000e+00, 1.00224960e-04],\n",
       "       [1.08754608e-02, 9.40725371e-03],\n",
       "       [1.66380990e-02, 1.18523458e-02],\n",
       "       [2.52483036e-02, 2.08145412e-02],\n",
       "       [1.61326868e-02, 1.47305884e-02],\n",
       "       [6.59794783e-04, 9.32786760e-04],\n",
       "       [2.62391697e-04, 0.00000000e+00],\n",
       "       [4.01981732e-03, 3.88247681e-03],\n",
       "       [2.35248538e-02, 1.80459507e-02],\n",
       "       [5.33019089e-02, 3.81450245e-02],\n",
       "       [8.90675996e-02, 7.76098431e-02],\n",
       "       [2.67874334e-02, 2.10566688e-02],\n",
       "       [1.30882974e-01, 1.15481978e-01]])"
      ]
     },
     "execution_count": 75,
     "metadata": {},
     "output_type": "execute_result"
    }
   ],
   "source": [
    "#Menstandarkan Ukuran Variabel\n",
    "from sklearn.preprocessing import MinMaxScaler\n",
    "scaler = MinMaxScaler()\n",
    "x_scaled = scaler.fit_transform(x_array)\n",
    "x_scaled"
   ]
  },
  {
   "cell_type": "code",
   "execution_count": 76,
   "metadata": {},
   "outputs": [
    {
     "data": {
      "text/plain": [
       "KMeans(n_clusters=3, random_state=123)"
      ]
     },
     "execution_count": 76,
     "metadata": {},
     "output_type": "execute_result"
    }
   ],
   "source": [
    "# Menentukan dan mengkonfigurasi fungsi kmeans \n",
    "kmeans = KMeans(n_clusters = 3, random_state=123)\n",
    "#Menentukan kluster dari data\n",
    "kmeans.fit(x_scaled)"
   ]
  },
  {
   "cell_type": "code",
   "execution_count": 79,
   "metadata": {},
   "outputs": [
    {
     "name": "stdout",
     "output_type": "stream",
     "text": [
      "[[0.03071948 0.02619228]\n",
      " [1.         1.        ]\n",
      " [0.53688452 0.45792611]]\n"
     ]
    }
   ],
   "source": [
    "#Menampilkan pusat cluster \n",
    "print(kmeans.cluster_centers_)"
   ]
  },
  {
   "cell_type": "code",
   "execution_count": 80,
   "metadata": {},
   "outputs": [
    {
     "name": "stdout",
     "output_type": "stream",
     "text": [
      "[2 1 0 2 0 0 0 0 0 0 0 0 0 0 0 0 0 0 0 0]\n"
     ]
    }
   ],
   "source": [
    "#Menampilkan Hasil Kluster \n",
    "print(kmeans.labels_)\n",
    "#Menambahkan Kolom \"kluster\" Dalam Data Frame Driver \n",
    "dataset[\"kluster\"] = kmeans.labels_"
   ]
  },
  {
   "cell_type": "code",
   "execution_count": 81,
   "metadata": {},
   "outputs": [
    {
     "data": {
      "image/png": "[encoded data removed]",
      "text/plain": [
       "<Figure size 432x288 with 2 Axes>"
      ]
     },
     "metadata": {
      "needs_background": "light"
     },
     "output_type": "display_data"
    }
   ],
   "source": [
    "# Memvisualkan hasil kluster\n",
    "output = plt.scatter(x_scaled[:,0], x_scaled[:,1], s = 100, c = dataset.kluster, marker = \"o\", alpha = 1, )\n",
    "centers = kmeans.cluster_centers_\n",
    "plt.scatter(centers[:,0], centers[:,1], c='red', s=200, alpha=1 , marker=\"s\");\n",
    "plt.title(\"Hasil Klustering K-Means\")\n",
    "plt.colorbar (output)\n",
    "plt.show()"
   ]
  },
  {
   "cell_type": "code",
   "execution_count": 91,
   "metadata": {},
   "outputs": [
    {
     "name": "stdout",
     "output_type": "stream",
     "text": [
      "0.26033204614213545\n"
     ]
    }
   ],
   "source": [
    "print(davies_bouldin_score(X, kmeans.labels_)) "
   ]
  },
  {
   "cell_type": "markdown",
   "metadata": {},
   "source": [
    "# 5. Hierarchical"
   ]
  },
  {
   "cell_type": "code",
   "execution_count": 82,
   "metadata": {},
   "outputs": [],
   "source": [
    "#  Memanggil Library yang dibutuhkan \n",
    "\n",
    "from sklearn.cluster import AgglomerativeClustering\n",
    "import scipy.cluster.hierarchy as sch"
   ]
  },
  {
   "cell_type": "code",
   "execution_count": 83,
   "metadata": {},
   "outputs": [
    {
     "data": {
      "image/png": "[encoded data removed]",
      "text/plain": [
       "<Figure size 432x288 with 1 Axes>"
      ]
     },
     "metadata": {
      "needs_background": "light"
     },
     "output_type": "display_data"
    }
   ],
   "source": [
    "# Membentuk dendogram dengan metode complete \n",
    "dendrogram = sch.dendrogram(sch.linkage(X, method='complete'))"
   ]
  },
  {
   "cell_type": "code",
   "execution_count": 84,
   "metadata": {},
   "outputs": [
    {
     "data": {
      "image/png": "[encoded data removed]",
      "text/plain": [
       "<Figure size 432x288 with 1 Axes>"
      ]
     },
     "metadata": {
      "needs_background": "light"
     },
     "output_type": "display_data"
    }
   ],
   "source": [
    "#  Membentuk dendogram dengan metode ward \n",
    "dendrogram = sch.dendrogram(sch.linkage(X, method='ward'))"
   ]
  },
  {
   "cell_type": "code",
   "execution_count": 87,
   "metadata": {},
   "outputs": [],
   "source": [
    "# Melakukan fitting hierarchical clustering \n",
    "model = AgglomerativeClustering(n_clusters=2, affinity='euclidean', linkage='ward')\n",
    "model.fit(X)\n",
    "labels = model.labels_"
   ]
  },
  {
   "cell_type": "code",
   "execution_count": 86,
   "metadata": {},
   "outputs": [
    {
     "data": {
      "image/png": "[encoded data removed]",
      "text/plain": [
       "<Figure size 432x288 with 1 Axes>"
      ]
     },
     "metadata": {
      "needs_background": "light"
     },
     "output_type": "display_data"
    }
   ],
   "source": [
    "# Mengeplot Data setelah dilakukan hierarchical clustering\n",
    "plt.scatter(X[labels==0, 0], X[labels==0, 1], s=50, marker='o', color='red')\n",
    "plt.scatter(X[labels==1, 0], X[labels==1, 1], s=50, marker='o', color='blue')\n",
    "plt.show()"
   ]
  },
  {
   "cell_type": "code",
   "execution_count": 92,
   "metadata": {},
   "outputs": [
    {
     "name": "stdout",
     "output_type": "stream",
     "text": [
      "0.4033364447327529\n"
     ]
    }
   ],
   "source": [
    "print(davies_bouldin_score(X, labels)) "
   ]
  },
  {
   "cell_type": "markdown",
   "metadata": {},
   "source": [
    "Dari kedua metode diatas diperoleh :\n",
    "1. Metode KMeans, menghasilkan 3 cluster dengan DB index = 0.26033204614213545\n",
    "2. Metode Hierarchical, menghasilkan 2 cluster dengan DB index = 0.4033364447327529\n",
    "\n",
    "Jumlah cluster terbaik ditunjukkan dengan nilai DB index yang semakin kecil. Dengan demikian, pada kasus ini metode Kmeans dengan 3 cluster lebih baik dibandingkan dengan metode Hierarchical."
   ]
  },
  {
   "cell_type": "code",
   "execution_count": null,
   "metadata": {},
   "outputs": [],
   "source": []
  }
 ],
 "metadata": {
  "kernelspec": {
   "display_name": "Python 3",
   "language": "python",
   "name": "python3"
  },
  "language_info": {
   "codemirror_mode": {
    "name": "ipython",
    "version": 3
   },
   "file_extension": ".py",
   "mimetype": "text/x-python",
   "name": "python",
   "nbconvert_exporter": "python",
   "pygments_lexer": "ipython3",
   "version": "3.8.3"
  }
 },
 "nbformat": 4,
 "nbformat_minor": 4
}
